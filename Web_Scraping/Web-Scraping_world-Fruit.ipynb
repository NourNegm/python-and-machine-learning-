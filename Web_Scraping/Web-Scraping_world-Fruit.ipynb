{
 "cells": [
  {
   "cell_type": "markdown",
   "metadata": {},
   "source": [
    "### Web scraping table of largest producing countries of fruits list (2017)from wikipedia page using BeautifulSoup\n",
    "<https://en.wikipedia.org/wiki/List_of_largest_producing_countries_of_agricultural_commodities>"
   ]
  },
  {
   "cell_type": "code",
   "execution_count": 1,
   "metadata": {},
   "outputs": [],
   "source": [
    "import pandas as pd\n",
    "import requests \n",
    "from bs4 import BeautifulSoup"
   ]
  },
  {
   "cell_type": "code",
   "execution_count": 2,
   "metadata": {},
   "outputs": [],
   "source": [
    "url = 'https://en.wikipedia.org/wiki/List_of_largest_producing_countries_of_agricultural_commodities'\n",
    "r = requests.get(url)"
   ]
  },
  {
   "cell_type": "code",
   "execution_count": 3,
   "metadata": {},
   "outputs": [],
   "source": [
    "soup = BeautifulSoup(r.content , 'html.parser')\n",
    "table = soup.find_all('table' , attrs = {'class': 'wikitable'})[2]     # 2 means the table number 3 in the url page\n",
    "rows  = table.find_all('tr')\n",
    "row_list = list()"
   ]
  },
  {
   "cell_type": "code",
   "execution_count": 4,
   "metadata": {},
   "outputs": [],
   "source": [
    "for tr in rows :\n",
    "    td = tr.find_all('td')\n",
    "    row = [i.text for i in td]\n",
    "    row_list.append(row)"
   ]
  },
  {
   "cell_type": "code",
   "execution_count": 5,
   "metadata": {},
   "outputs": [
    {
     "data": {
      "text/plain": [
       "[[],\n",
       " ['Apricot\\n',\n",
       "  '\\xa0Turkey\\n',\n",
       "  '\\xa0Uzbekistan\\n',\n",
       "  '\\xa0Iran\\n',\n",
       "  '\\xa0Algeria\\n',\n",
       "  '\\xa0Italy\\n'],\n",
       " ['Olive\\n',\n",
       "  '\\xa0Spain\\n',\n",
       "  '\\xa0Greece\\n',\n",
       "  '\\xa0Italy\\n',\n",
       "  '\\xa0Turkey\\n',\n",
       "  '\\xa0Morocco\\n'],\n",
       " ['Pear\\n',\n",
       "  '\\xa0China\\n',\n",
       "  '\\xa0Argentina\\n',\n",
       "  '\\xa0United States\\n',\n",
       "  '\\xa0Italy\\n',\n",
       "  '\\xa0Turkey\\n'],\n",
       " ['Banana\\n',\n",
       "  '\\xa0India\\n',\n",
       "  '\\xa0China\\n',\n",
       "  '\\xa0Indonesia\\n',\n",
       "  '\\xa0Brazil\\n',\n",
       "  '\\xa0Ecuador\\n']]"
      ]
     },
     "execution_count": 5,
     "metadata": {},
     "output_type": "execute_result"
    }
   ],
   "source": [
    "row_list[:5]"
   ]
  },
  {
   "cell_type": "code",
   "execution_count": 6,
   "metadata": {},
   "outputs": [],
   "source": [
    "df_fruit = pd.DataFrame (row_list , columns = ['Fruit' , 'First' , 'Second' , 'Third' , 'Fourth' , 'Fifth'])  #columns names\n",
    "df_fruit.set_index('Fruit' , inplace = True)\n",
    "df_fruit.to_csv('raw_data.csv')                 # save data as csv file"
   ]
  },
  {
   "cell_type": "code",
   "execution_count": 7,
   "metadata": {},
   "outputs": [
    {
     "data": {
      "text/html": [
       "<div>\n",
       "<style scoped>\n",
       "    .dataframe tbody tr th:only-of-type {\n",
       "        vertical-align: middle;\n",
       "    }\n",
       "\n",
       "    .dataframe tbody tr th {\n",
       "        vertical-align: top;\n",
       "    }\n",
       "\n",
       "    .dataframe thead th {\n",
       "        text-align: right;\n",
       "    }\n",
       "</style>\n",
       "<table border=\"1\" class=\"dataframe\">\n",
       "  <thead>\n",
       "    <tr style=\"text-align: right;\">\n",
       "      <th></th>\n",
       "      <th>Fruit</th>\n",
       "      <th>First</th>\n",
       "      <th>Second</th>\n",
       "      <th>Third</th>\n",
       "      <th>Fourth</th>\n",
       "      <th>Fifth</th>\n",
       "    </tr>\n",
       "  </thead>\n",
       "  <tbody>\n",
       "    <tr>\n",
       "      <th>0</th>\n",
       "      <td>NaN</td>\n",
       "      <td>NaN</td>\n",
       "      <td>NaN</td>\n",
       "      <td>NaN</td>\n",
       "      <td>NaN</td>\n",
       "      <td>NaN</td>\n",
       "    </tr>\n",
       "    <tr>\n",
       "      <th>1</th>\n",
       "      <td>Apricot\\n</td>\n",
       "      <td>Turkey\\n</td>\n",
       "      <td>Uzbekistan\\n</td>\n",
       "      <td>Iran\\n</td>\n",
       "      <td>Algeria\\n</td>\n",
       "      <td>Italy\\n</td>\n",
       "    </tr>\n",
       "    <tr>\n",
       "      <th>2</th>\n",
       "      <td>Olive\\n</td>\n",
       "      <td>Spain\\n</td>\n",
       "      <td>Greece\\n</td>\n",
       "      <td>Italy\\n</td>\n",
       "      <td>Turkey\\n</td>\n",
       "      <td>Morocco\\n</td>\n",
       "    </tr>\n",
       "    <tr>\n",
       "      <th>3</th>\n",
       "      <td>Pear\\n</td>\n",
       "      <td>China\\n</td>\n",
       "      <td>Argentina\\n</td>\n",
       "      <td>United States\\n</td>\n",
       "      <td>Italy\\n</td>\n",
       "      <td>Turkey\\n</td>\n",
       "    </tr>\n",
       "    <tr>\n",
       "      <th>4</th>\n",
       "      <td>Banana\\n</td>\n",
       "      <td>India\\n</td>\n",
       "      <td>China\\n</td>\n",
       "      <td>Indonesia\\n</td>\n",
       "      <td>Brazil\\n</td>\n",
       "      <td>Ecuador\\n</td>\n",
       "    </tr>\n",
       "  </tbody>\n",
       "</table>\n",
       "</div>"
      ],
      "text/plain": [
       "       Fruit      First         Second             Third      Fourth  \\\n",
       "0        NaN        NaN            NaN               NaN         NaN   \n",
       "1  Apricot\\n   Turkey\\n   Uzbekistan\\n            Iran\\n   Algeria\\n   \n",
       "2    Olive\\n    Spain\\n       Greece\\n           Italy\\n    Turkey\\n   \n",
       "3     Pear\\n    China\\n    Argentina\\n   United States\\n     Italy\\n   \n",
       "4   Banana\\n    India\\n        China\\n       Indonesia\\n    Brazil\\n   \n",
       "\n",
       "        Fifth  \n",
       "0         NaN  \n",
       "1     Italy\\n  \n",
       "2   Morocco\\n  \n",
       "3    Turkey\\n  \n",
       "4   Ecuador\\n  "
      ]
     },
     "execution_count": 7,
     "metadata": {},
     "output_type": "execute_result"
    }
   ],
   "source": [
    "df = pd.read_csv(\"raw_data.csv\")\n",
    "df.head()"
   ]
  },
  {
   "cell_type": "code",
   "execution_count": 8,
   "metadata": {},
   "outputs": [
    {
     "data": {
      "text/html": [
       "<div>\n",
       "<style scoped>\n",
       "    .dataframe tbody tr th:only-of-type {\n",
       "        vertical-align: middle;\n",
       "    }\n",
       "\n",
       "    .dataframe tbody tr th {\n",
       "        vertical-align: top;\n",
       "    }\n",
       "\n",
       "    .dataframe thead th {\n",
       "        text-align: right;\n",
       "    }\n",
       "</style>\n",
       "<table border=\"1\" class=\"dataframe\">\n",
       "  <thead>\n",
       "    <tr style=\"text-align: right;\">\n",
       "      <th></th>\n",
       "      <th>Fruit</th>\n",
       "      <th>First</th>\n",
       "      <th>Second</th>\n",
       "      <th>Third</th>\n",
       "      <th>Fourth</th>\n",
       "      <th>Fifth</th>\n",
       "    </tr>\n",
       "  </thead>\n",
       "  <tbody>\n",
       "    <tr>\n",
       "      <th>1</th>\n",
       "      <td>Apricot\\n</td>\n",
       "      <td>Turkey\\n</td>\n",
       "      <td>Uzbekistan\\n</td>\n",
       "      <td>Iran\\n</td>\n",
       "      <td>Algeria\\n</td>\n",
       "      <td>Italy\\n</td>\n",
       "    </tr>\n",
       "    <tr>\n",
       "      <th>2</th>\n",
       "      <td>Olive\\n</td>\n",
       "      <td>Spain\\n</td>\n",
       "      <td>Greece\\n</td>\n",
       "      <td>Italy\\n</td>\n",
       "      <td>Turkey\\n</td>\n",
       "      <td>Morocco\\n</td>\n",
       "    </tr>\n",
       "    <tr>\n",
       "      <th>3</th>\n",
       "      <td>Pear\\n</td>\n",
       "      <td>China\\n</td>\n",
       "      <td>Argentina\\n</td>\n",
       "      <td>United States\\n</td>\n",
       "      <td>Italy\\n</td>\n",
       "      <td>Turkey\\n</td>\n",
       "    </tr>\n",
       "    <tr>\n",
       "      <th>4</th>\n",
       "      <td>Banana\\n</td>\n",
       "      <td>India\\n</td>\n",
       "      <td>China\\n</td>\n",
       "      <td>Indonesia\\n</td>\n",
       "      <td>Brazil\\n</td>\n",
       "      <td>Ecuador\\n</td>\n",
       "    </tr>\n",
       "    <tr>\n",
       "      <th>5</th>\n",
       "      <td>Mango, mangosteen, guava\\n</td>\n",
       "      <td>India\\n</td>\n",
       "      <td>China\\n</td>\n",
       "      <td>Thailand\\n</td>\n",
       "      <td>Indonesia\\n</td>\n",
       "      <td>Mexico\\n</td>\n",
       "    </tr>\n",
       "  </tbody>\n",
       "</table>\n",
       "</div>"
      ],
      "text/plain": [
       "                        Fruit      First         Second             Third  \\\n",
       "1                   Apricot\\n   Turkey\\n   Uzbekistan\\n            Iran\\n   \n",
       "2                     Olive\\n    Spain\\n       Greece\\n           Italy\\n   \n",
       "3                      Pear\\n    China\\n    Argentina\\n   United States\\n   \n",
       "4                    Banana\\n    India\\n        China\\n       Indonesia\\n   \n",
       "5  Mango, mangosteen, guava\\n    India\\n        China\\n        Thailand\\n   \n",
       "\n",
       "         Fourth       Fifth  \n",
       "1     Algeria\\n     Italy\\n  \n",
       "2      Turkey\\n   Morocco\\n  \n",
       "3       Italy\\n    Turkey\\n  \n",
       "4      Brazil\\n   Ecuador\\n  \n",
       "5   Indonesia\\n    Mexico\\n  "
      ]
     },
     "execution_count": 8,
     "metadata": {},
     "output_type": "execute_result"
    }
   ],
   "source": [
    "# dropping first row\n",
    "df = df.iloc[1:]\n",
    "df.head()"
   ]
  },
  {
   "cell_type": "code",
   "execution_count": 9,
   "metadata": {
    "scrolled": true
   },
   "outputs": [
    {
     "data": {
      "text/html": [
       "<div>\n",
       "<style scoped>\n",
       "    .dataframe tbody tr th:only-of-type {\n",
       "        vertical-align: middle;\n",
       "    }\n",
       "\n",
       "    .dataframe tbody tr th {\n",
       "        vertical-align: top;\n",
       "    }\n",
       "\n",
       "    .dataframe thead th {\n",
       "        text-align: right;\n",
       "    }\n",
       "</style>\n",
       "<table border=\"1\" class=\"dataframe\">\n",
       "  <thead>\n",
       "    <tr style=\"text-align: right;\">\n",
       "      <th></th>\n",
       "      <th>Fruit</th>\n",
       "      <th>First</th>\n",
       "      <th>Second</th>\n",
       "      <th>Third</th>\n",
       "      <th>Fourth</th>\n",
       "      <th>Fifth</th>\n",
       "    </tr>\n",
       "  </thead>\n",
       "  <tbody>\n",
       "    <tr>\n",
       "      <th>1</th>\n",
       "      <td>Apricot</td>\n",
       "      <td>Turkey</td>\n",
       "      <td>Uzbekistan</td>\n",
       "      <td>Iran</td>\n",
       "      <td>Algeria</td>\n",
       "      <td>Italy</td>\n",
       "    </tr>\n",
       "    <tr>\n",
       "      <th>2</th>\n",
       "      <td>Olive</td>\n",
       "      <td>Spain</td>\n",
       "      <td>Greece</td>\n",
       "      <td>Italy</td>\n",
       "      <td>Turkey</td>\n",
       "      <td>Morocco</td>\n",
       "    </tr>\n",
       "    <tr>\n",
       "      <th>3</th>\n",
       "      <td>Pear</td>\n",
       "      <td>China</td>\n",
       "      <td>Argentina</td>\n",
       "      <td>United States</td>\n",
       "      <td>Italy</td>\n",
       "      <td>Turkey</td>\n",
       "    </tr>\n",
       "    <tr>\n",
       "      <th>4</th>\n",
       "      <td>Banana</td>\n",
       "      <td>India</td>\n",
       "      <td>China</td>\n",
       "      <td>Indonesia</td>\n",
       "      <td>Brazil</td>\n",
       "      <td>Ecuador</td>\n",
       "    </tr>\n",
       "    <tr>\n",
       "      <th>5</th>\n",
       "      <td>Mango, mangosteen, guava</td>\n",
       "      <td>India</td>\n",
       "      <td>China</td>\n",
       "      <td>Thailand</td>\n",
       "      <td>Indonesia</td>\n",
       "      <td>Mexico</td>\n",
       "    </tr>\n",
       "  </tbody>\n",
       "</table>\n",
       "</div>"
      ],
      "text/plain": [
       "                      Fruit    First       Second           Third      Fourth  \\\n",
       "1                   Apricot   Turkey   Uzbekistan            Iran     Algeria   \n",
       "2                     Olive    Spain       Greece           Italy      Turkey   \n",
       "3                      Pear    China    Argentina   United States       Italy   \n",
       "4                    Banana    India        China       Indonesia      Brazil   \n",
       "5  Mango, mangosteen, guava    India        China        Thailand   Indonesia   \n",
       "\n",
       "      Fifth  \n",
       "1     Italy  \n",
       "2   Morocco  \n",
       "3    Turkey  \n",
       "4   Ecuador  \n",
       "5    Mexico  "
      ]
     },
     "execution_count": 9,
     "metadata": {},
     "output_type": "execute_result"
    }
   ],
   "source": [
    "#removing unwanted \\n\n",
    "df = df.replace('\\n','', regex=True)\n",
    "df.head()\n"
   ]
  },
  {
   "cell_type": "code",
   "execution_count": 10,
   "metadata": {},
   "outputs": [],
   "source": [
    "df_fruit.to_csv('df.csv')        # saving cleaned file"
   ]
  }
 ],
 "metadata": {
  "kernelspec": {
   "display_name": "Python 3",
   "language": "python",
   "name": "python3"
  },
  "language_info": {
   "codemirror_mode": {
    "name": "ipython",
    "version": 3
   },
   "file_extension": ".py",
   "mimetype": "text/x-python",
   "name": "python",
   "nbconvert_exporter": "python",
   "pygments_lexer": "ipython3",
   "version": "3.6.5"
  }
 },
 "nbformat": 4,
 "nbformat_minor": 4
}
